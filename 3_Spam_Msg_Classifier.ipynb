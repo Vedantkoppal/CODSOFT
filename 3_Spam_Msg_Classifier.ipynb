{
  "nbformat": 4,
  "nbformat_minor": 0,
  "metadata": {
    "colab": {
      "provenance": [],
      "gpuType": "T4"
    },
    "kernelspec": {
      "name": "python3",
      "display_name": "Python 3"
    },
    "language_info": {
      "name": "python"
    },
    "accelerator": "GPU"
  },
  "cells": [
    {
      "cell_type": "markdown",
      "source": [
        "##**Import Libraries**"
      ],
      "metadata": {
        "id": "nWNpcqEjAoRO"
      }
    },
    {
      "cell_type": "code",
      "execution_count": null,
      "metadata": {
        "id": "n5GpJoCbeKX1"
      },
      "outputs": [],
      "source": [
        "import numpy as np\n",
        "import pandas as pd\n",
        "from sklearn.metrics import confusion_matrix,classification_report\n",
        "from sklearn.feature_extraction.text import CountVectorizer, TfidfVectorizer\n",
        "from sklearn.ensemble import RandomForestClassifier\n",
        "from sklearn.metrics import confusion_matrix,classification_report\n",
        "# from imblearn.over_sampling import SMOTE\n",
        "from sklearn.linear_model import LogisticRegression\n",
        "from sklearn.dummy import DummyClassifier\n",
        "from sklearn.model_selection import GridSearchCV\n",
        "from sklearn.pipeline import Pipeline\n",
        "from sklearn.naive_bayes import MultinomialNB\n",
        "from sklearn.naive_bayes import GaussianNB\n",
        "from sklearn.metrics import accuracy_score, f1_score, precision_score, recall_score, classification_report, confusion_matrix\n",
        "from wordcloud import WordCloud, STOPWORDS\n",
        "from sklearn.feature_extraction.text import TfidfVectorizer, CountVectorizer\n",
        "from sklearn.multiclass import OneVsRestClassifier\n",
        "from sklearn.ensemble import RandomForestClassifier\n",
        "from sklearn.tree import DecisionTreeClassifier\n",
        "from yellowbrick.text import FreqDistVisualizer\n",
        "from mlxtend.feature_selection import ColumnSelector"
      ]
    },
    {
      "cell_type": "code",
      "source": [
        "from imblearn.over_sampling import SMOTE\n",
        "from sklearn.linear_model import LogisticRegression\n",
        "from sklearn.metrics import confusion_matrix, classification_report\n",
        "import warnings\n",
        "warnings.filterwarnings('ignore')"
      ],
      "metadata": {
        "id": "h2VlwStopRSs"
      },
      "execution_count": null,
      "outputs": []
    },
    {
      "cell_type": "markdown",
      "source": [
        "##**Import Data**"
      ],
      "metadata": {
        "id": "fwbUTFwCAuBd"
      }
    },
    {
      "cell_type": "code",
      "source": [
        "data=pd.read_csv('/content/drive/MyDrive/Spam Msg/spam.csv',encoding = 'latin-1')"
      ],
      "metadata": {
        "id": "eLkgZgkyfeCh"
      },
      "execution_count": null,
      "outputs": []
    },
    {
      "cell_type": "code",
      "source": [
        "data.head()"
      ],
      "metadata": {
        "colab": {
          "base_uri": "https://localhost:8080/",
          "height": 206
        },
        "id": "g9yRLuh8fjxH",
        "outputId": "950c3be1-c68b-4ed8-ba4b-c6b6616ccc49"
      },
      "execution_count": null,
      "outputs": [
        {
          "output_type": "execute_result",
          "data": {
            "text/plain": [
              "     v1                                                 v2 Unnamed: 2  \\\n",
              "0   ham  Go until jurong point, crazy.. Available only ...        NaN   \n",
              "1   ham                      Ok lar... Joking wif u oni...        NaN   \n",
              "2  spam  Free entry in 2 a wkly comp to win FA Cup fina...        NaN   \n",
              "3   ham  U dun say so early hor... U c already then say...        NaN   \n",
              "4   ham  Nah I don't think he goes to usf, he lives aro...        NaN   \n",
              "\n",
              "  Unnamed: 3 Unnamed: 4  \n",
              "0        NaN        NaN  \n",
              "1        NaN        NaN  \n",
              "2        NaN        NaN  \n",
              "3        NaN        NaN  \n",
              "4        NaN        NaN  "
            ],
            "text/html": [
              "\n",
              "\n",
              "  <div id=\"df-f2562cf4-abb9-46d9-9502-ffe50f2fef36\">\n",
              "    <div class=\"colab-df-container\">\n",
              "      <div>\n",
              "<style scoped>\n",
              "    .dataframe tbody tr th:only-of-type {\n",
              "        vertical-align: middle;\n",
              "    }\n",
              "\n",
              "    .dataframe tbody tr th {\n",
              "        vertical-align: top;\n",
              "    }\n",
              "\n",
              "    .dataframe thead th {\n",
              "        text-align: right;\n",
              "    }\n",
              "</style>\n",
              "<table border=\"1\" class=\"dataframe\">\n",
              "  <thead>\n",
              "    <tr style=\"text-align: right;\">\n",
              "      <th></th>\n",
              "      <th>v1</th>\n",
              "      <th>v2</th>\n",
              "      <th>Unnamed: 2</th>\n",
              "      <th>Unnamed: 3</th>\n",
              "      <th>Unnamed: 4</th>\n",
              "    </tr>\n",
              "  </thead>\n",
              "  <tbody>\n",
              "    <tr>\n",
              "      <th>0</th>\n",
              "      <td>ham</td>\n",
              "      <td>Go until jurong point, crazy.. Available only ...</td>\n",
              "      <td>NaN</td>\n",
              "      <td>NaN</td>\n",
              "      <td>NaN</td>\n",
              "    </tr>\n",
              "    <tr>\n",
              "      <th>1</th>\n",
              "      <td>ham</td>\n",
              "      <td>Ok lar... Joking wif u oni...</td>\n",
              "      <td>NaN</td>\n",
              "      <td>NaN</td>\n",
              "      <td>NaN</td>\n",
              "    </tr>\n",
              "    <tr>\n",
              "      <th>2</th>\n",
              "      <td>spam</td>\n",
              "      <td>Free entry in 2 a wkly comp to win FA Cup fina...</td>\n",
              "      <td>NaN</td>\n",
              "      <td>NaN</td>\n",
              "      <td>NaN</td>\n",
              "    </tr>\n",
              "    <tr>\n",
              "      <th>3</th>\n",
              "      <td>ham</td>\n",
              "      <td>U dun say so early hor... U c already then say...</td>\n",
              "      <td>NaN</td>\n",
              "      <td>NaN</td>\n",
              "      <td>NaN</td>\n",
              "    </tr>\n",
              "    <tr>\n",
              "      <th>4</th>\n",
              "      <td>ham</td>\n",
              "      <td>Nah I don't think he goes to usf, he lives aro...</td>\n",
              "      <td>NaN</td>\n",
              "      <td>NaN</td>\n",
              "      <td>NaN</td>\n",
              "    </tr>\n",
              "  </tbody>\n",
              "</table>\n",
              "</div>\n",
              "      <button class=\"colab-df-convert\" onclick=\"convertToInteractive('df-f2562cf4-abb9-46d9-9502-ffe50f2fef36')\"\n",
              "              title=\"Convert this dataframe to an interactive table.\"\n",
              "              style=\"display:none;\">\n",
              "\n",
              "  <svg xmlns=\"http://www.w3.org/2000/svg\" height=\"24px\"viewBox=\"0 0 24 24\"\n",
              "       width=\"24px\">\n",
              "    <path d=\"M0 0h24v24H0V0z\" fill=\"none\"/>\n",
              "    <path d=\"M18.56 5.44l.94 2.06.94-2.06 2.06-.94-2.06-.94-.94-2.06-.94 2.06-2.06.94zm-11 1L8.5 8.5l.94-2.06 2.06-.94-2.06-.94L8.5 2.5l-.94 2.06-2.06.94zm10 10l.94 2.06.94-2.06 2.06-.94-2.06-.94-.94-2.06-.94 2.06-2.06.94z\"/><path d=\"M17.41 7.96l-1.37-1.37c-.4-.4-.92-.59-1.43-.59-.52 0-1.04.2-1.43.59L10.3 9.45l-7.72 7.72c-.78.78-.78 2.05 0 2.83L4 21.41c.39.39.9.59 1.41.59.51 0 1.02-.2 1.41-.59l7.78-7.78 2.81-2.81c.8-.78.8-2.07 0-2.86zM5.41 20L4 18.59l7.72-7.72 1.47 1.35L5.41 20z\"/>\n",
              "  </svg>\n",
              "      </button>\n",
              "\n",
              "\n",
              "\n",
              "    <div id=\"df-a7e8f44b-d9d7-4ca5-9fa1-e572c062c53e\">\n",
              "      <button class=\"colab-df-quickchart\" onclick=\"quickchart('df-a7e8f44b-d9d7-4ca5-9fa1-e572c062c53e')\"\n",
              "              title=\"Suggest charts.\"\n",
              "              style=\"display:none;\">\n",
              "\n",
              "<svg xmlns=\"http://www.w3.org/2000/svg\" height=\"24px\"viewBox=\"0 0 24 24\"\n",
              "     width=\"24px\">\n",
              "    <g>\n",
              "        <path d=\"M19 3H5c-1.1 0-2 .9-2 2v14c0 1.1.9 2 2 2h14c1.1 0 2-.9 2-2V5c0-1.1-.9-2-2-2zM9 17H7v-7h2v7zm4 0h-2V7h2v10zm4 0h-2v-4h2v4z\"/>\n",
              "    </g>\n",
              "</svg>\n",
              "      </button>\n",
              "    </div>\n",
              "\n",
              "<style>\n",
              "  .colab-df-quickchart {\n",
              "    background-color: #E8F0FE;\n",
              "    border: none;\n",
              "    border-radius: 50%;\n",
              "    cursor: pointer;\n",
              "    display: none;\n",
              "    fill: #1967D2;\n",
              "    height: 32px;\n",
              "    padding: 0 0 0 0;\n",
              "    width: 32px;\n",
              "  }\n",
              "\n",
              "  .colab-df-quickchart:hover {\n",
              "    background-color: #E2EBFA;\n",
              "    box-shadow: 0px 1px 2px rgba(60, 64, 67, 0.3), 0px 1px 3px 1px rgba(60, 64, 67, 0.15);\n",
              "    fill: #174EA6;\n",
              "  }\n",
              "\n",
              "  [theme=dark] .colab-df-quickchart {\n",
              "    background-color: #3B4455;\n",
              "    fill: #D2E3FC;\n",
              "  }\n",
              "\n",
              "  [theme=dark] .colab-df-quickchart:hover {\n",
              "    background-color: #434B5C;\n",
              "    box-shadow: 0px 1px 3px 1px rgba(0, 0, 0, 0.15);\n",
              "    filter: drop-shadow(0px 1px 2px rgba(0, 0, 0, 0.3));\n",
              "    fill: #FFFFFF;\n",
              "  }\n",
              "</style>\n",
              "\n",
              "    <script>\n",
              "      async function quickchart(key) {\n",
              "        const containerElement = document.querySelector('#' + key);\n",
              "        const charts = await google.colab.kernel.invokeFunction(\n",
              "            'suggestCharts', [key], {});\n",
              "      }\n",
              "    </script>\n",
              "\n",
              "      <script>\n",
              "\n",
              "function displayQuickchartButton(domScope) {\n",
              "  let quickchartButtonEl =\n",
              "    domScope.querySelector('#df-a7e8f44b-d9d7-4ca5-9fa1-e572c062c53e button.colab-df-quickchart');\n",
              "  quickchartButtonEl.style.display =\n",
              "    google.colab.kernel.accessAllowed ? 'block' : 'none';\n",
              "}\n",
              "\n",
              "        displayQuickchartButton(document);\n",
              "      </script>\n",
              "      <style>\n",
              "    .colab-df-container {\n",
              "      display:flex;\n",
              "      flex-wrap:wrap;\n",
              "      gap: 12px;\n",
              "    }\n",
              "\n",
              "    .colab-df-convert {\n",
              "      background-color: #E8F0FE;\n",
              "      border: none;\n",
              "      border-radius: 50%;\n",
              "      cursor: pointer;\n",
              "      display: none;\n",
              "      fill: #1967D2;\n",
              "      height: 32px;\n",
              "      padding: 0 0 0 0;\n",
              "      width: 32px;\n",
              "    }\n",
              "\n",
              "    .colab-df-convert:hover {\n",
              "      background-color: #E2EBFA;\n",
              "      box-shadow: 0px 1px 2px rgba(60, 64, 67, 0.3), 0px 1px 3px 1px rgba(60, 64, 67, 0.15);\n",
              "      fill: #174EA6;\n",
              "    }\n",
              "\n",
              "    [theme=dark] .colab-df-convert {\n",
              "      background-color: #3B4455;\n",
              "      fill: #D2E3FC;\n",
              "    }\n",
              "\n",
              "    [theme=dark] .colab-df-convert:hover {\n",
              "      background-color: #434B5C;\n",
              "      box-shadow: 0px 1px 3px 1px rgba(0, 0, 0, 0.15);\n",
              "      filter: drop-shadow(0px 1px 2px rgba(0, 0, 0, 0.3));\n",
              "      fill: #FFFFFF;\n",
              "    }\n",
              "  </style>\n",
              "\n",
              "      <script>\n",
              "        const buttonEl =\n",
              "          document.querySelector('#df-f2562cf4-abb9-46d9-9502-ffe50f2fef36 button.colab-df-convert');\n",
              "        buttonEl.style.display =\n",
              "          google.colab.kernel.accessAllowed ? 'block' : 'none';\n",
              "\n",
              "        async function convertToInteractive(key) {\n",
              "          const element = document.querySelector('#df-f2562cf4-abb9-46d9-9502-ffe50f2fef36');\n",
              "          const dataTable =\n",
              "            await google.colab.kernel.invokeFunction('convertToInteractive',\n",
              "                                                     [key], {});\n",
              "          if (!dataTable) return;\n",
              "\n",
              "          const docLinkHtml = 'Like what you see? Visit the ' +\n",
              "            '<a target=\"_blank\" href=https://colab.research.google.com/notebooks/data_table.ipynb>data table notebook</a>'\n",
              "            + ' to learn more about interactive tables.';\n",
              "          element.innerHTML = '';\n",
              "          dataTable['output_type'] = 'display_data';\n",
              "          await google.colab.output.renderOutput(dataTable, element);\n",
              "          const docLink = document.createElement('div');\n",
              "          docLink.innerHTML = docLinkHtml;\n",
              "          element.appendChild(docLink);\n",
              "        }\n",
              "      </script>\n",
              "    </div>\n",
              "  </div>\n"
            ]
          },
          "metadata": {},
          "execution_count": 3
        }
      ]
    },
    {
      "cell_type": "code",
      "source": [
        "data.columns"
      ],
      "metadata": {
        "colab": {
          "base_uri": "https://localhost:8080/"
        },
        "id": "v-5_IARFgQ0n",
        "outputId": "b6c70cfb-1f72-4666-a16b-40a6be8b30d1"
      },
      "execution_count": null,
      "outputs": [
        {
          "output_type": "execute_result",
          "data": {
            "text/plain": [
              "Index(['v1', 'v2', 'Unnamed: 2', 'Unnamed: 3', 'Unnamed: 4'], dtype='object')"
            ]
          },
          "metadata": {},
          "execution_count": 4
        }
      ]
    },
    {
      "cell_type": "code",
      "source": [
        "data.drop(['Unnamed: 2','Unnamed: 3','Unnamed: 4'], axis=1)"
      ],
      "metadata": {
        "colab": {
          "base_uri": "https://localhost:8080/",
          "height": 423
        },
        "id": "rj4CJp7VggGn",
        "outputId": "52bd0d2f-b53f-4636-966a-5dd9a79bc269"
      },
      "execution_count": null,
      "outputs": [
        {
          "output_type": "execute_result",
          "data": {
            "text/plain": [
              "        v1                                                 v2\n",
              "0      ham  Go until jurong point, crazy.. Available only ...\n",
              "1      ham                      Ok lar... Joking wif u oni...\n",
              "2     spam  Free entry in 2 a wkly comp to win FA Cup fina...\n",
              "3      ham  U dun say so early hor... U c already then say...\n",
              "4      ham  Nah I don't think he goes to usf, he lives aro...\n",
              "...    ...                                                ...\n",
              "5567  spam  This is the 2nd time we have tried 2 contact u...\n",
              "5568   ham              Will Ì_ b going to esplanade fr home?\n",
              "5569   ham  Pity, * was in mood for that. So...any other s...\n",
              "5570   ham  The guy did some bitching but I acted like i'd...\n",
              "5571   ham                         Rofl. Its true to its name\n",
              "\n",
              "[5572 rows x 2 columns]"
            ],
            "text/html": [
              "\n",
              "\n",
              "  <div id=\"df-e34d85b9-b0a3-4a23-8242-f87837fc509c\">\n",
              "    <div class=\"colab-df-container\">\n",
              "      <div>\n",
              "<style scoped>\n",
              "    .dataframe tbody tr th:only-of-type {\n",
              "        vertical-align: middle;\n",
              "    }\n",
              "\n",
              "    .dataframe tbody tr th {\n",
              "        vertical-align: top;\n",
              "    }\n",
              "\n",
              "    .dataframe thead th {\n",
              "        text-align: right;\n",
              "    }\n",
              "</style>\n",
              "<table border=\"1\" class=\"dataframe\">\n",
              "  <thead>\n",
              "    <tr style=\"text-align: right;\">\n",
              "      <th></th>\n",
              "      <th>v1</th>\n",
              "      <th>v2</th>\n",
              "    </tr>\n",
              "  </thead>\n",
              "  <tbody>\n",
              "    <tr>\n",
              "      <th>0</th>\n",
              "      <td>ham</td>\n",
              "      <td>Go until jurong point, crazy.. Available only ...</td>\n",
              "    </tr>\n",
              "    <tr>\n",
              "      <th>1</th>\n",
              "      <td>ham</td>\n",
              "      <td>Ok lar... Joking wif u oni...</td>\n",
              "    </tr>\n",
              "    <tr>\n",
              "      <th>2</th>\n",
              "      <td>spam</td>\n",
              "      <td>Free entry in 2 a wkly comp to win FA Cup fina...</td>\n",
              "    </tr>\n",
              "    <tr>\n",
              "      <th>3</th>\n",
              "      <td>ham</td>\n",
              "      <td>U dun say so early hor... U c already then say...</td>\n",
              "    </tr>\n",
              "    <tr>\n",
              "      <th>4</th>\n",
              "      <td>ham</td>\n",
              "      <td>Nah I don't think he goes to usf, he lives aro...</td>\n",
              "    </tr>\n",
              "    <tr>\n",
              "      <th>...</th>\n",
              "      <td>...</td>\n",
              "      <td>...</td>\n",
              "    </tr>\n",
              "    <tr>\n",
              "      <th>5567</th>\n",
              "      <td>spam</td>\n",
              "      <td>This is the 2nd time we have tried 2 contact u...</td>\n",
              "    </tr>\n",
              "    <tr>\n",
              "      <th>5568</th>\n",
              "      <td>ham</td>\n",
              "      <td>Will Ì_ b going to esplanade fr home?</td>\n",
              "    </tr>\n",
              "    <tr>\n",
              "      <th>5569</th>\n",
              "      <td>ham</td>\n",
              "      <td>Pity, * was in mood for that. So...any other s...</td>\n",
              "    </tr>\n",
              "    <tr>\n",
              "      <th>5570</th>\n",
              "      <td>ham</td>\n",
              "      <td>The guy did some bitching but I acted like i'd...</td>\n",
              "    </tr>\n",
              "    <tr>\n",
              "      <th>5571</th>\n",
              "      <td>ham</td>\n",
              "      <td>Rofl. Its true to its name</td>\n",
              "    </tr>\n",
              "  </tbody>\n",
              "</table>\n",
              "<p>5572 rows × 2 columns</p>\n",
              "</div>\n",
              "      <button class=\"colab-df-convert\" onclick=\"convertToInteractive('df-e34d85b9-b0a3-4a23-8242-f87837fc509c')\"\n",
              "              title=\"Convert this dataframe to an interactive table.\"\n",
              "              style=\"display:none;\">\n",
              "\n",
              "  <svg xmlns=\"http://www.w3.org/2000/svg\" height=\"24px\"viewBox=\"0 0 24 24\"\n",
              "       width=\"24px\">\n",
              "    <path d=\"M0 0h24v24H0V0z\" fill=\"none\"/>\n",
              "    <path d=\"M18.56 5.44l.94 2.06.94-2.06 2.06-.94-2.06-.94-.94-2.06-.94 2.06-2.06.94zm-11 1L8.5 8.5l.94-2.06 2.06-.94-2.06-.94L8.5 2.5l-.94 2.06-2.06.94zm10 10l.94 2.06.94-2.06 2.06-.94-2.06-.94-.94-2.06-.94 2.06-2.06.94z\"/><path d=\"M17.41 7.96l-1.37-1.37c-.4-.4-.92-.59-1.43-.59-.52 0-1.04.2-1.43.59L10.3 9.45l-7.72 7.72c-.78.78-.78 2.05 0 2.83L4 21.41c.39.39.9.59 1.41.59.51 0 1.02-.2 1.41-.59l7.78-7.78 2.81-2.81c.8-.78.8-2.07 0-2.86zM5.41 20L4 18.59l7.72-7.72 1.47 1.35L5.41 20z\"/>\n",
              "  </svg>\n",
              "      </button>\n",
              "\n",
              "\n",
              "\n",
              "    <div id=\"df-1f696725-df55-4bda-9d31-532dae3badaf\">\n",
              "      <button class=\"colab-df-quickchart\" onclick=\"quickchart('df-1f696725-df55-4bda-9d31-532dae3badaf')\"\n",
              "              title=\"Suggest charts.\"\n",
              "              style=\"display:none;\">\n",
              "\n",
              "<svg xmlns=\"http://www.w3.org/2000/svg\" height=\"24px\"viewBox=\"0 0 24 24\"\n",
              "     width=\"24px\">\n",
              "    <g>\n",
              "        <path d=\"M19 3H5c-1.1 0-2 .9-2 2v14c0 1.1.9 2 2 2h14c1.1 0 2-.9 2-2V5c0-1.1-.9-2-2-2zM9 17H7v-7h2v7zm4 0h-2V7h2v10zm4 0h-2v-4h2v4z\"/>\n",
              "    </g>\n",
              "</svg>\n",
              "      </button>\n",
              "    </div>\n",
              "\n",
              "<style>\n",
              "  .colab-df-quickchart {\n",
              "    background-color: #E8F0FE;\n",
              "    border: none;\n",
              "    border-radius: 50%;\n",
              "    cursor: pointer;\n",
              "    display: none;\n",
              "    fill: #1967D2;\n",
              "    height: 32px;\n",
              "    padding: 0 0 0 0;\n",
              "    width: 32px;\n",
              "  }\n",
              "\n",
              "  .colab-df-quickchart:hover {\n",
              "    background-color: #E2EBFA;\n",
              "    box-shadow: 0px 1px 2px rgba(60, 64, 67, 0.3), 0px 1px 3px 1px rgba(60, 64, 67, 0.15);\n",
              "    fill: #174EA6;\n",
              "  }\n",
              "\n",
              "  [theme=dark] .colab-df-quickchart {\n",
              "    background-color: #3B4455;\n",
              "    fill: #D2E3FC;\n",
              "  }\n",
              "\n",
              "  [theme=dark] .colab-df-quickchart:hover {\n",
              "    background-color: #434B5C;\n",
              "    box-shadow: 0px 1px 3px 1px rgba(0, 0, 0, 0.15);\n",
              "    filter: drop-shadow(0px 1px 2px rgba(0, 0, 0, 0.3));\n",
              "    fill: #FFFFFF;\n",
              "  }\n",
              "</style>\n",
              "\n",
              "    <script>\n",
              "      async function quickchart(key) {\n",
              "        const containerElement = document.querySelector('#' + key);\n",
              "        const charts = await google.colab.kernel.invokeFunction(\n",
              "            'suggestCharts', [key], {});\n",
              "      }\n",
              "    </script>\n",
              "\n",
              "      <script>\n",
              "\n",
              "function displayQuickchartButton(domScope) {\n",
              "  let quickchartButtonEl =\n",
              "    domScope.querySelector('#df-1f696725-df55-4bda-9d31-532dae3badaf button.colab-df-quickchart');\n",
              "  quickchartButtonEl.style.display =\n",
              "    google.colab.kernel.accessAllowed ? 'block' : 'none';\n",
              "}\n",
              "\n",
              "        displayQuickchartButton(document);\n",
              "      </script>\n",
              "      <style>\n",
              "    .colab-df-container {\n",
              "      display:flex;\n",
              "      flex-wrap:wrap;\n",
              "      gap: 12px;\n",
              "    }\n",
              "\n",
              "    .colab-df-convert {\n",
              "      background-color: #E8F0FE;\n",
              "      border: none;\n",
              "      border-radius: 50%;\n",
              "      cursor: pointer;\n",
              "      display: none;\n",
              "      fill: #1967D2;\n",
              "      height: 32px;\n",
              "      padding: 0 0 0 0;\n",
              "      width: 32px;\n",
              "    }\n",
              "\n",
              "    .colab-df-convert:hover {\n",
              "      background-color: #E2EBFA;\n",
              "      box-shadow: 0px 1px 2px rgba(60, 64, 67, 0.3), 0px 1px 3px 1px rgba(60, 64, 67, 0.15);\n",
              "      fill: #174EA6;\n",
              "    }\n",
              "\n",
              "    [theme=dark] .colab-df-convert {\n",
              "      background-color: #3B4455;\n",
              "      fill: #D2E3FC;\n",
              "    }\n",
              "\n",
              "    [theme=dark] .colab-df-convert:hover {\n",
              "      background-color: #434B5C;\n",
              "      box-shadow: 0px 1px 3px 1px rgba(0, 0, 0, 0.15);\n",
              "      filter: drop-shadow(0px 1px 2px rgba(0, 0, 0, 0.3));\n",
              "      fill: #FFFFFF;\n",
              "    }\n",
              "  </style>\n",
              "\n",
              "      <script>\n",
              "        const buttonEl =\n",
              "          document.querySelector('#df-e34d85b9-b0a3-4a23-8242-f87837fc509c button.colab-df-convert');\n",
              "        buttonEl.style.display =\n",
              "          google.colab.kernel.accessAllowed ? 'block' : 'none';\n",
              "\n",
              "        async function convertToInteractive(key) {\n",
              "          const element = document.querySelector('#df-e34d85b9-b0a3-4a23-8242-f87837fc509c');\n",
              "          const dataTable =\n",
              "            await google.colab.kernel.invokeFunction('convertToInteractive',\n",
              "                                                     [key], {});\n",
              "          if (!dataTable) return;\n",
              "\n",
              "          const docLinkHtml = 'Like what you see? Visit the ' +\n",
              "            '<a target=\"_blank\" href=https://colab.research.google.com/notebooks/data_table.ipynb>data table notebook</a>'\n",
              "            + ' to learn more about interactive tables.';\n",
              "          element.innerHTML = '';\n",
              "          dataTable['output_type'] = 'display_data';\n",
              "          await google.colab.output.renderOutput(dataTable, element);\n",
              "          const docLink = document.createElement('div');\n",
              "          docLink.innerHTML = docLinkHtml;\n",
              "          element.appendChild(docLink);\n",
              "        }\n",
              "      </script>\n",
              "    </div>\n",
              "  </div>\n"
            ]
          },
          "metadata": {},
          "execution_count": 5
        }
      ]
    },
    {
      "cell_type": "markdown",
      "source": [
        "##**EDA**"
      ],
      "metadata": {
        "id": "mJvHCUMoh4Am"
      }
    },
    {
      "cell_type": "code",
      "source": [
        "data['v1'].value_counts()"
      ],
      "metadata": {
        "colab": {
          "base_uri": "https://localhost:8080/"
        },
        "id": "G608Yk7Yh3qK",
        "outputId": "1683d7c8-6918-4dde-bbcc-a4e5ee9a052e"
      },
      "execution_count": null,
      "outputs": [
        {
          "output_type": "execute_result",
          "data": {
            "text/plain": [
              "ham     4825\n",
              "spam     747\n",
              "Name: v1, dtype: int64"
            ]
          },
          "metadata": {},
          "execution_count": 6
        }
      ]
    },
    {
      "cell_type": "markdown",
      "source": [
        "##Preprocessing\n",
        "\n",
        "---\n",
        "Applying NLP protocols so as to clean text\n"
      ],
      "metadata": {
        "id": "nUlGjJZAiL4F"
      }
    },
    {
      "cell_type": "code",
      "source": [
        "import nltk\n",
        "nltk.download('stopwords')\n",
        "nltk.download('punkt')\n",
        "nltk.download('wordnet')\n",
        "from nltk.corpus import stopwords\n",
        "import string\n",
        "from nltk.stem import WordNetLemmatizer\n",
        "from nltk import word_tokenize"
      ],
      "metadata": {
        "colab": {
          "base_uri": "https://localhost:8080/"
        },
        "id": "B5lHOn4KhOHP",
        "outputId": "ce44c378-5dbe-4f9c-ddb0-5bf5340732bc"
      },
      "execution_count": null,
      "outputs": [
        {
          "output_type": "stream",
          "name": "stderr",
          "text": [
            "[nltk_data] Downloading package stopwords to /root/nltk_data...\n",
            "[nltk_data]   Package stopwords is already up-to-date!\n",
            "[nltk_data] Downloading package punkt to /root/nltk_data...\n",
            "[nltk_data]   Package punkt is already up-to-date!\n",
            "[nltk_data] Downloading package wordnet to /root/nltk_data...\n",
            "[nltk_data]   Package wordnet is already up-to-date!\n"
          ]
        }
      ]
    },
    {
      "cell_type": "code",
      "source": [
        "en_stopwords = stopwords.words('english')\n",
        "en_stopwords+=['one', 'two', 'go','goes', 'get', 'also', 'however', 'tells',''''s''']\n",
        "en_stopwords += list(string.punctuation)\n",
        "\n",
        "# Initialize WordNet Lemmatizer\n",
        "lemmatizer = WordNetLemmatizer()"
      ],
      "metadata": {
        "id": "wOhZfWRSkrdv"
      },
      "execution_count": null,
      "outputs": []
    },
    {
      "cell_type": "code",
      "source": [
        "def clean_text(text):\n",
        "    text=text.lower()   #Lowercasing all text\n",
        "    text=word_tokenize(text)  #Tokenization\n",
        "    text=[w for w in text if w not in en_stopwords]  #Stopwords Filtering\n",
        "    text = [lemmatizer.lemmatize(w) for w in text]\n",
        "    text=' '.join(text)  #Reform sentence\n",
        "    return text"
      ],
      "metadata": {
        "id": "SP9_nb60kuQ4"
      },
      "execution_count": null,
      "outputs": []
    },
    {
      "cell_type": "code",
      "source": [
        "sample_text=data['v2'][5]\n",
        "sample_text"
      ],
      "metadata": {
        "colab": {
          "base_uri": "https://localhost:8080/",
          "height": 36
        },
        "id": "vLLj98dClN7X",
        "outputId": "92eaf543-1b92-4029-ee6e-f0ebe12d88ee"
      },
      "execution_count": null,
      "outputs": [
        {
          "output_type": "execute_result",
          "data": {
            "text/plain": [
              "\"FreeMsg Hey there darling it's been 3 week's now and no word back! I'd like some fun you up for it still? Tb ok! XxX std chgs to send, å£1.50 to rcv\""
            ],
            "application/vnd.google.colaboratory.intrinsic+json": {
              "type": "string"
            }
          },
          "metadata": {},
          "execution_count": 18
        }
      ]
    },
    {
      "cell_type": "code",
      "source": [
        "clean_text(sample_text)"
      ],
      "metadata": {
        "colab": {
          "base_uri": "https://localhost:8080/",
          "height": 36
        },
        "id": "9TaSD8BilxkD",
        "outputId": "687b33bc-12fc-4979-b0b7-ad3e222698bb"
      },
      "execution_count": null,
      "outputs": [
        {
          "output_type": "execute_result",
          "data": {
            "text/plain": [
              "\"freemsg hey darling 3 week word back 'd like fun still tb ok xxx std chgs send å£1.50 rcv\""
            ],
            "application/vnd.google.colaboratory.intrinsic+json": {
              "type": "string"
            }
          },
          "metadata": {},
          "execution_count": 20
        }
      ]
    },
    {
      "cell_type": "code",
      "source": [
        "data['clean_text']=data['v2'].map(lambda x:clean_text(x))"
      ],
      "metadata": {
        "id": "XXjvBKWUlUyv"
      },
      "execution_count": null,
      "outputs": []
    },
    {
      "cell_type": "code",
      "source": [
        "data['v1'].map({'ham':0,'spam':1})"
      ],
      "metadata": {
        "colab": {
          "base_uri": "https://localhost:8080/"
        },
        "id": "0j8ofGjfoiIU",
        "outputId": "d143a1aa-4f2a-4034-f3f3-85ef6f8497dc"
      },
      "execution_count": null,
      "outputs": [
        {
          "output_type": "execute_result",
          "data": {
            "text/plain": [
              "0       0\n",
              "1       0\n",
              "2       1\n",
              "3       0\n",
              "4       0\n",
              "       ..\n",
              "5567    1\n",
              "5568    0\n",
              "5569    0\n",
              "5570    0\n",
              "5571    0\n",
              "Name: v1, Length: 5572, dtype: int64"
            ]
          },
          "metadata": {},
          "execution_count": 34
        }
      ]
    },
    {
      "cell_type": "markdown",
      "source": [
        "##**Splitting Data**"
      ],
      "metadata": {
        "id": "ubaZsTeTBFmp"
      }
    },
    {
      "cell_type": "code",
      "source": [
        "from sklearn.model_selection import train_test_split"
      ],
      "metadata": {
        "id": "NawxFjZbluZe"
      },
      "execution_count": null,
      "outputs": []
    },
    {
      "cell_type": "code",
      "source": [
        "X_train, X_test , y_train, y_test = train_test_split(data['clean_text'].values,data['v1'].values,test_size=0.25,random_state=123,stratify=data['v1'].values)"
      ],
      "metadata": {
        "id": "c72Gq-8-mBfu"
      },
      "execution_count": null,
      "outputs": []
    },
    {
      "cell_type": "markdown",
      "source": [
        "##**Vectorising Text so as to put as input to Algos**"
      ],
      "metadata": {
        "id": "ZEwYcO81BPfw"
      }
    },
    {
      "cell_type": "markdown",
      "source": [
        "###**1. Count Vactorizer**"
      ],
      "metadata": {
        "id": "ARTYoeXfm6Bc"
      }
    },
    {
      "cell_type": "code",
      "source": [
        "countvec = CountVectorizer(ngram_range = (1,3), max_features = 30000)\n",
        "vec_Xtr = countvec.fit_transform(X_train)"
      ],
      "metadata": {
        "id": "P7eXBA_5mYTu"
      },
      "execution_count": null,
      "outputs": []
    },
    {
      "cell_type": "code",
      "source": [
        "vec_Xte=countvec.fit_transform(X_test)"
      ],
      "metadata": {
        "id": "dfiQJMzRqxmI"
      },
      "execution_count": null,
      "outputs": []
    },
    {
      "cell_type": "markdown",
      "source": [
        "###**2. TF-IDF**"
      ],
      "metadata": {
        "id": "-_9onhfRnOoQ"
      }
    },
    {
      "cell_type": "code",
      "source": [
        "tfidf_vectorizer = TfidfVectorizer()\n",
        "tfidf_train_vectors = tfidf_vectorizer.fit_transform(X_train)\n",
        "tfidf_test_vectors = tfidf_vectorizer.transform(X_test)"
      ],
      "metadata": {
        "id": "vf982-kamest"
      },
      "execution_count": null,
      "outputs": []
    },
    {
      "cell_type": "markdown",
      "source": [
        "##**Training Models**"
      ],
      "metadata": {
        "id": "4j7g3n6Wng6W"
      }
    },
    {
      "cell_type": "markdown",
      "source": [
        "###1. Dummy Grid Classifier\n",
        "\n",
        "\n",
        "---\n",
        "The Dummy Grid Classifier will give us a base minimun accuracy for this project!\n",
        "\n",
        "---\n",
        "I will be using dummy grid so as toi find the best score\n"
      ],
      "metadata": {
        "id": "8hJ8VyBMn05U"
      }
    },
    {
      "cell_type": "code",
      "source": [
        "dummy_grid = {\n",
        "    'strategy': ['most_frequent', 'stratified', 'prior', 'uniform']\n",
        "}\n",
        "dummy = DummyClassifier( random_state = 42)\n",
        "dummy_gs = GridSearchCV(dummy, param_grid = dummy_grid, cv = 5)\n",
        "dummy_gs.fit(X_train, y_train)\n",
        "print(dummy_gs.best_score_)"
      ],
      "metadata": {
        "colab": {
          "base_uri": "https://localhost:8080/"
        },
        "id": "Jylx1lymn0JS",
        "outputId": "521d7e0b-7035-46ac-9897-4aa297fae66d"
      },
      "execution_count": null,
      "outputs": [
        {
          "output_type": "stream",
          "name": "stdout",
          "text": [
            "0.8659966192017878\n"
          ]
        }
      ]
    },
    {
      "cell_type": "markdown",
      "source": [
        "###Base Accuracy: 0.8659966192017878"
      ],
      "metadata": {
        "id": "rDmTSSeZB6F6"
      }
    },
    {
      "cell_type": "markdown",
      "source": [
        "###**1. Naive Bias - TF-IDF**"
      ],
      "metadata": {
        "id": "O4nk4FU0nl0m"
      }
    },
    {
      "cell_type": "code",
      "source": [
        "mnb_grid = {\n",
        "    'alpha': [0, 0.2, 0.5, 0.8, 1.0, 1.0],\n",
        "    'fit_prior' : [True, False],\n",
        "    'class_prior' : [None, [.4, .3, 0.08, .07, .06, .06], [.167, .167, .167, .167, .167, .167]]\n",
        "}\n",
        "mnb = MultinomialNB()\n",
        "mnb_tfidf_gs = GridSearchCV(mnb, param_grid = mnb_grid, cv = 5)\n",
        "mnb_tfidf_gs.fit(tfidf_train_vectors, y_train)\n",
        "print(mnb_tfidf_gs.best_score_)\n",
        "predicted_NB=mnb_tfidf_gs.predict(tfidf_test_vectors)\n",
        "print('\\nClassification report:\\n', classification_report(y_test, predicted_NB))\n",
        "conf_mat = confusion_matrix(y_true=y_test, y_pred=predicted_NB)\n",
        "print('Confusion matrix:\\n', conf_mat)"
      ],
      "metadata": {
        "colab": {
          "base_uri": "https://localhost:8080/"
        },
        "id": "GZjS_gPJne1-",
        "outputId": "74bbf2d8-6455-4c61-f762-b885e5838130"
      },
      "execution_count": null,
      "outputs": [
        {
          "output_type": "stream",
          "name": "stdout",
          "text": [
            "0.984204509641005\n",
            "\n",
            "Classification report:\n",
            "               precision    recall  f1-score   support\n",
            "\n",
            "         ham       0.99      1.00      0.99      1206\n",
            "        spam       0.99      0.94      0.96       187\n",
            "\n",
            "    accuracy                           0.99      1393\n",
            "   macro avg       0.99      0.97      0.98      1393\n",
            "weighted avg       0.99      0.99      0.99      1393\n",
            "\n",
            "Confusion matrix:\n",
            " [[1205    1]\n",
            " [  12  175]]\n"
          ]
        }
      ]
    },
    {
      "cell_type": "markdown",
      "source": [
        "###**2. Naive Bias - Count Vectoriser**"
      ],
      "metadata": {
        "id": "5bJKXJKgCGbK"
      }
    },
    {
      "cell_type": "code",
      "source": [
        "mnb_grid = {\n",
        "    'alpha': [0, 0.2, 0.5, 0.8, 1.0],\n",
        "    'fit_prior' : [True, False],\n",
        "    'class_prior' : [None, [.4, .3, 0.08, .07, .06, .06], [.167, .167, .167, .167, .167, .167]]\n",
        "}\n",
        "mnb1 = MultinomialNB()\n",
        "mnb_cvec_gs = GridSearchCV(mnb1, param_grid = mnb_grid, cv = 5)\n",
        "mnb_cvec_gs.fit(vec_Xtr_new, y_train)\n",
        "print(mnb_cvec_gs.best_score_)\n",
        "predicted_NB_CV=mnb_cvec_gs.predict(vec_Xte_new)\n",
        "print('\\nClassification report:\\n', classification_report(y_test, predicted_NB_CV))\n",
        "conf_mat = confusion_matrix(y_true=y_test, y_pred=predicted_NB_CV)\n",
        "print('Confusion matrix:\\n', conf_mat)"
      ],
      "metadata": {
        "colab": {
          "base_uri": "https://localhost:8080/"
        },
        "id": "tSpOsUMrpvNO",
        "outputId": "bcc4f897-2d4a-4527-984d-6addd90513d9"
      },
      "execution_count": null,
      "outputs": [
        {
          "output_type": "stream",
          "name": "stdout",
          "text": [
            "0.9822914935678881\n",
            "\n",
            "Classification report:\n",
            "               precision    recall  f1-score   support\n",
            "\n",
            "         ham       1.00      0.97      0.98      1206\n",
            "        spam       0.83      0.97      0.89       187\n",
            "\n",
            "    accuracy                           0.97      1393\n",
            "   macro avg       0.91      0.97      0.94      1393\n",
            "weighted avg       0.97      0.97      0.97      1393\n",
            "\n",
            "Confusion matrix:\n",
            " [[1168   38]\n",
            " [   5  182]]\n"
          ]
        }
      ]
    },
    {
      "cell_type": "markdown",
      "source": [
        "###**3. Logistic Regression - TF-IDF**"
      ],
      "metadata": {
        "id": "-FFYZTjSrOxi"
      }
    },
    {
      "cell_type": "code",
      "source": [
        "lr_grid = {\n",
        "    'penalty' : ['l1', 'l2', 'none'],\n",
        "    'C' : [1.0, 1e2, 1e4, 1e10],\n",
        "    'class_weight' : ['balanced', None],\n",
        "    'solver' : ['lbfgs', 'liblinear'],\n",
        "    'multi_class' : ['ovr', 'multinomial']\n",
        "}\n",
        "logreg = LogisticRegression(max_iter=1000,random_state = 42)\n",
        "\n",
        "logreg_tfidf_gs = GridSearchCV(logreg, param_grid = lr_grid, cv = 5)\n",
        "logreg_tfidf_gs.fit(tfidf_train_vectors, y_train)\n",
        "print(logreg_tfidf_gs.best_score_)\n"
      ],
      "metadata": {
        "colab": {
          "base_uri": "https://localhost:8080/"
        },
        "id": "inUg3NGgq_Gs",
        "outputId": "8cf133e4-bde9-47b3-fbf4-1defbe033f72"
      },
      "execution_count": null,
      "outputs": [
        {
          "output_type": "stream",
          "name": "stdout",
          "text": [
            "0.9789419247629143\n"
          ]
        }
      ]
    },
    {
      "cell_type": "markdown",
      "source": [
        "###**4. Logistic Regression - Count Vectoriser**"
      ],
      "metadata": {
        "id": "t4Xs89a4CXWe"
      }
    },
    {
      "cell_type": "code",
      "source": [
        "logreg1 = LogisticRegression(max_iter=1000,random_state = 42)\n",
        "\n",
        "logreg_cv = GridSearchCV(logreg, param_grid = lr_grid, cv = 5)\n",
        "logreg_cv.fit(vec_Xtr, y_train)\n"
      ],
      "metadata": {
        "colab": {
          "base_uri": "https://localhost:8080/"
        },
        "id": "aPxKlMnRruxd",
        "outputId": "2f85b8fb-69d0-45d6-b2a8-ade87cfab313"
      },
      "execution_count": null,
      "outputs": [
        {
          "output_type": "stream",
          "name": "stdout",
          "text": [
            "0.9789419247629143\n"
          ]
        }
      ]
    },
    {
      "cell_type": "markdown",
      "source": [
        "###5**. Decision tree - TF-IDF**"
      ],
      "metadata": {
        "id": "wt8nGJQWsq32"
      }
    },
    {
      "cell_type": "code",
      "source": [
        "grid = {\n",
        "    'criterion': ['gini', 'entropy'],\n",
        "    'max_depth': [1, 2, 5, 10],\n",
        "    'min_samples_split': [1, 5, 10, 20]\n",
        "}\n",
        "\n",
        "dt_clf = DecisionTreeClassifier (random_state = 42)\n",
        "dt_tfidf = GridSearchCV(dt_clf, param_grid = grid, cv = 5)\n",
        "dt_tfidf.fit(tfidf_train_vectors, y_train)\n",
        "\n",
        "print(dt_tfidf.best_score_)"
      ],
      "metadata": {
        "colab": {
          "base_uri": "https://localhost:8080/"
        },
        "id": "qrbdWLmOsbut",
        "outputId": "9e2591f3-c756-4a51-ea00-311cb177173d"
      },
      "execution_count": null,
      "outputs": [
        {
          "output_type": "stream",
          "name": "stdout",
          "text": [
            "0.9614717932555941\n"
          ]
        }
      ]
    },
    {
      "cell_type": "markdown",
      "source": [
        "###6**. Decision tree - Count Vectoriser**"
      ],
      "metadata": {
        "id": "5uTEVIfHCsO9"
      }
    },
    {
      "cell_type": "code",
      "source": [
        "grid = {\n",
        "    'criterion': ['gini', 'entropy'],\n",
        "    'max_depth': [1, 2, 5, 10],\n",
        "    'min_samples_split': [1, 5, 10, 20]\n",
        "}\n",
        "dt_clf1 = DecisionTreeClassifier (random_state = 42)\n",
        "dt_cv = GridSearchCV(dt_clf1, param_grid = grid, cv = 5)\n",
        "dt_cv.fit(vec_Xtr, y_train)\n",
        "\n",
        "print(dt_cv.best_score_)"
      ],
      "metadata": {
        "colab": {
          "base_uri": "https://localhost:8080/"
        },
        "id": "g72f8CyLtXsW",
        "outputId": "413be32b-1c42-4419-ff88-3873a09a1b3a"
      },
      "execution_count": null,
      "outputs": [
        {
          "output_type": "stream",
          "name": "stdout",
          "text": [
            "0.9554917915365442\n"
          ]
        }
      ]
    },
    {
      "cell_type": "markdown",
      "source": [
        "###**7. SVM - TF-IDF**"
      ],
      "metadata": {
        "id": "wgjcK2Qwtv9V"
      }
    },
    {
      "cell_type": "code",
      "source": [
        "from sklearn.svm import SVC\n",
        "svc_classifier = SVC(kernel='linear')\n",
        "svc_classifier.fit(tfidf_train_vectors, y_train)\n",
        "\n",
        "\n",
        "# Make Prediction & print the result\n",
        "predicted_SVM_tfidf= svc_classifier.predict(tfidf_test_vectors)\n",
        "print(classification_report(y_test,predicted_SVM_tfidf))\n",
        "conf_mat_SVM = confusion_matrix(y_true=y_test, y_pred=predicted_SVM_tfidf)\n"
      ],
      "metadata": {
        "colab": {
          "base_uri": "https://localhost:8080/"
        },
        "id": "uWCs6oFJtl4k",
        "outputId": "166c7ae2-1ea7-46a8-b650-d9a787f7c72e"
      },
      "execution_count": null,
      "outputs": [
        {
          "output_type": "stream",
          "name": "stdout",
          "text": [
            "              precision    recall  f1-score   support\n",
            "\n",
            "         ham       0.99      1.00      0.99      1206\n",
            "        spam       0.98      0.93      0.95       187\n",
            "\n",
            "    accuracy                           0.99      1393\n",
            "   macro avg       0.98      0.96      0.97      1393\n",
            "weighted avg       0.99      0.99      0.99      1393\n",
            "\n",
            "Confusion matrix:\n",
            " [[1205    1]\n",
            " [  12  175]]\n"
          ]
        }
      ]
    },
    {
      "cell_type": "code",
      "source": [
        "vec_Xte_new=countvec.transform(X_test)\n",
        "vec_Xtr_new=countvec.transform(X_train)"
      ],
      "metadata": {
        "id": "jsnLc3fOwyq4"
      },
      "execution_count": null,
      "outputs": []
    },
    {
      "cell_type": "markdown",
      "source": [
        "###**8. SVM - Count Vectoriser**"
      ],
      "metadata": {
        "id": "U6EXO6l2C-ag"
      }
    },
    {
      "cell_type": "code",
      "source": [
        "svc_classifier1 = SVC(kernel='linear')\n",
        "svc_classifier1.fit(vec_Xtr_new, y_train)\n",
        "\n",
        "\n",
        "# Make Prediction & print the result\n",
        "predicted_SVM_cv= svc_classifier1.predict(vec_Xte_new)\n",
        "print(classification_report(y_test,predicted_SVM_cv))\n",
        "conf_mat_SVM = confusion_matrix(y_true=y_test, y_pred=predicted_SVM_cv)\n",
        "print('Confusion matrix:\\n', conf_mat_SVM)"
      ],
      "metadata": {
        "colab": {
          "base_uri": "https://localhost:8080/"
        },
        "id": "w6SpN3tzuD9J",
        "outputId": "4477bf63-f0fc-425f-d84a-25ae2a0848b6"
      },
      "execution_count": null,
      "outputs": [
        {
          "output_type": "stream",
          "name": "stdout",
          "text": [
            "              precision    recall  f1-score   support\n",
            "\n",
            "         ham       0.99      0.99      0.99      1206\n",
            "        spam       0.95      0.94      0.94       187\n",
            "\n",
            "    accuracy                           0.98      1393\n",
            "   macro avg       0.97      0.96      0.97      1393\n",
            "weighted avg       0.98      0.98      0.98      1393\n",
            "\n",
            "Confusion matrix:\n",
            " [[1196   10]\n",
            " [  12  175]]\n"
          ]
        }
      ]
    },
    {
      "cell_type": "code",
      "source": [],
      "metadata": {
        "id": "JmB1VlgJuwK8"
      },
      "execution_count": null,
      "outputs": []
    }
  ]
}